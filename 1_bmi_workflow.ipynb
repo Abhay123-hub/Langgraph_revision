{
 "cells": [
  {
   "cell_type": "code",
   "execution_count": 1,
   "id": "72cf41ce",
   "metadata": {},
   "outputs": [],
   "source": [
    "## here i am going to write code for langgraph sequential workflow\n",
    "## it will be such that user will give weight(in kg) and height(in meters) in input then he will come to know\n",
    "## is he underweight,normal,overweight and obsese"
   ]
  },
  {
   "cell_type": "code",
   "execution_count": 2,
   "id": "8e8a9455",
   "metadata": {},
   "outputs": [],
   "source": [
    "from langgraph.graph import StateGraph,START,END ## for creating the graph\n",
    "from typing import TypedDict ##  for creating the state which will flow through the graph"
   ]
  },
  {
   "cell_type": "code",
   "execution_count": 3,
   "id": "172d2193",
   "metadata": {},
   "outputs": [],
   "source": [
    "## this is our state inherited from the class TypedDict\n",
    "class BMIState(TypedDict):\n",
    "    weight:float\n",
    "    height:float\n",
    "    bmi:float\n",
    "    response:str"
   ]
  },
  {
   "cell_type": "code",
   "execution_count": 4,
   "id": "e0d79c62",
   "metadata": {},
   "outputs": [],
   "source": [
    "def get_bmi(state:BMIState) ->dict:\n",
    "    weight = state.get(\"weight\")\n",
    "    height = state.get(\"height\")\n",
    "    bmi = weight/(height)**2\n",
    "    return {\"bmi\":bmi}"
   ]
  },
  {
   "cell_type": "code",
   "execution_count": 5,
   "id": "bb3513f9",
   "metadata": {},
   "outputs": [],
   "source": [
    "def final_response(state:BMIState) ->dict:\n",
    "    bmi = state.get(\"bmi\")\n",
    "    if bmi <18.5:\n",
    "        response= \"You are underweight.Go to Gym eat more food,fruits and have protien\"\n",
    "    elif(18.5<=bmi<25):\n",
    "        response  = \"You are normal.You can live your life happily\"\n",
    "    elif(25<=bmi<30):\n",
    "        response = \"You are overweight.Do exercise and yoga to reduce your weight\"\n",
    "    else:\n",
    "        response = \"You are obsese.You must be very serious about your health and weight otherwise it is not going to be good for you\"\n",
    "    return {\"response\":response}\n",
    "\n"
   ]
  },
  {
   "cell_type": "code",
   "execution_count": 6,
   "id": "91bc650f",
   "metadata": {},
   "outputs": [],
   "source": [
    "## till here i have created all the nodes(nothing just simple python functions)\n",
    "## now i can apply these nodes into graph\n",
    "\n",
    "workflow = StateGraph(BMIState)\n",
    "workflow.add_node(\"get_bmi\",get_bmi)\n",
    "workflow.add_node(\"final_response\",final_response)\n",
    "workflow.add_edge(START,\"get_bmi\")\n",
    "workflow.add_edge(\"get_bmi\",\"final_response\")\n",
    "workflow.add_edge(\"final_response\",END)\n",
    "graph = workflow.compile()"
   ]
  },
  {
   "cell_type": "code",
   "execution_count": 12,
   "id": "2f913aac",
   "metadata": {},
   "outputs": [
    {
     "name": "stdout",
     "output_type": "stream",
     "text": [
      "{'weight': 60, 'height': 1.78, 'bmi': 18.93700290367378, 'response': 'You are normal.You can live your life happily'}\n"
     ]
    }
   ],
   "source": [
    "initial_state = {\"weight\":60,\"height\":1.78}\n",
    "final_state = graph.invoke(initial_state)\n",
    "print(final_state)"
   ]
  },
  {
   "cell_type": "code",
   "execution_count": null,
   "id": "10def791",
   "metadata": {},
   "outputs": [],
   "source": []
  },
  {
   "cell_type": "code",
   "execution_count": null,
   "id": "f986f842",
   "metadata": {},
   "outputs": [],
   "source": []
  },
  {
   "cell_type": "code",
   "execution_count": null,
   "id": "2ac35c0d",
   "metadata": {},
   "outputs": [],
   "source": []
  },
  {
   "cell_type": "code",
   "execution_count": null,
   "id": "8b4ea8eb",
   "metadata": {},
   "outputs": [],
   "source": []
  },
  {
   "cell_type": "code",
   "execution_count": null,
   "id": "da67b2cd",
   "metadata": {},
   "outputs": [],
   "source": []
  },
  {
   "cell_type": "code",
   "execution_count": null,
   "id": "487ae0c3",
   "metadata": {},
   "outputs": [],
   "source": []
  },
  {
   "cell_type": "code",
   "execution_count": null,
   "id": "36d649b4",
   "metadata": {},
   "outputs": [],
   "source": []
  },
  {
   "cell_type": "code",
   "execution_count": null,
   "id": "dd959d5e",
   "metadata": {},
   "outputs": [],
   "source": []
  },
  {
   "cell_type": "code",
   "execution_count": null,
   "id": "54db0b65",
   "metadata": {},
   "outputs": [],
   "source": []
  }
 ],
 "metadata": {
  "kernelspec": {
   "display_name": "venv",
   "language": "python",
   "name": "python3"
  },
  "language_info": {
   "codemirror_mode": {
    "name": "ipython",
    "version": 3
   },
   "file_extension": ".py",
   "mimetype": "text/x-python",
   "name": "python",
   "nbconvert_exporter": "python",
   "pygments_lexer": "ipython3",
   "version": "3.10.0"
  }
 },
 "nbformat": 4,
 "nbformat_minor": 5
}
