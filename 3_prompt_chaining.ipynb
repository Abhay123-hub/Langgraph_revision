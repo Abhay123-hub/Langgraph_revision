{
 "cells": [
  {
   "cell_type": "code",
   "execution_count": 1,
   "id": "001088e7",
   "metadata": {},
   "outputs": [],
   "source": [
    "from langgraph.graph import StateGraph,START,END\n",
    "from dotenv import load_dotenv\n",
    "from langchain_openai import ChatOpenAI\n",
    "from typing import TypedDict"
   ]
  },
  {
   "cell_type": "code",
   "execution_count": 2,
   "id": "1ae9c6e7",
   "metadata": {},
   "outputs": [
    {
     "data": {
      "text/plain": [
       "True"
      ]
     },
     "execution_count": 2,
     "metadata": {},
     "output_type": "execute_result"
    }
   ],
   "source": [
    "load_dotenv()"
   ]
  },
  {
   "cell_type": "code",
   "execution_count": 3,
   "id": "528de877",
   "metadata": {},
   "outputs": [],
   "source": [
    "llm = ChatOpenAI()"
   ]
  },
  {
   "cell_type": "code",
   "execution_count": 4,
   "id": "5c972677",
   "metadata": {},
   "outputs": [],
   "source": [
    "class State(TypedDict):\n",
    "    topic:str\n",
    "    outline:str\n",
    "    blog:str"
   ]
  },
  {
   "cell_type": "code",
   "execution_count": 5,
   "id": "bc52624b",
   "metadata": {},
   "outputs": [],
   "source": [
    "def get_outline(state:State) -> dict:\n",
    "    topic = state.get(\"topic\")\n",
    "    prompt = f\"give the detailed outline of this topic: {topic}\"\n",
    "    outline = llm.invoke(prompt).content\n",
    "    return {\"outline\":outline}\n",
    "def get_blog(state:State) ->dict:\n",
    "    topic = state.get(\"topic\")\n",
    "    outline = state.get(\"outline\")\n",
    "    prompt = f\"write a detailed blog on topic:{topic} using this outline:\\n\\n {outline}\"\n",
    "    blog = llm.invoke(prompt).content\n",
    "    return {'blog':blog}"
   ]
  },
  {
   "cell_type": "code",
   "execution_count": 7,
   "id": "e419bb78",
   "metadata": {},
   "outputs": [
    {
     "data": {
      "image/png": "[encoded data removed]",
      "text/plain": [
       "<langgraph.graph.state.CompiledStateGraph object at 0x000001FD80DC3D90>"
      ]
     },
     "execution_count": 7,
     "metadata": {},
     "output_type": "execute_result"
    }
   ],
   "source": [
    "graph = StateGraph(State)\n",
    "graph.add_node(\"get_outline\",get_outline)\n",
    "graph.add_node(\"get_blog\",get_blog)\n",
    "graph.add_edge(START,\"get_outline\")\n",
    "graph.add_edge(\"get_outline\",\"get_blog\")\n",
    "graph.add_edge(\"get_blog\",END)\n",
    "graph.compile()"
   ]
  },
  {
   "cell_type": "code",
   "execution_count": 8,
   "id": "4b22ed1b",
   "metadata": {},
   "outputs": [],
   "source": [
    "workflow = graph.compile()"
   ]
  },
  {
   "cell_type": "code",
   "execution_count": 9,
   "id": "971038ac",
   "metadata": {},
   "outputs": [
    {
     "name": "stdout",
     "output_type": "stream",
     "text": [
      "{'topic': 'Machine Learning and Mathematics', 'outline': 'I. Introduction\\n    A. Explanation of machine learning and its increasing importance in various industries\\n    B. Introduction to the role of mathematics in machine learning\\n\\nII. Foundations of Machine Learning\\n    A. Overview of machine learning techniques\\n    B. Explanation of key concepts such as supervised learning, unsupervised learning, and reinforcement learning\\n    C. Importance of mathematical concepts in understanding machine learning algorithms\\n\\nIII. Mathematics in Machine Learning\\n    A. Linear algebra\\n        1. Explanation of vectors, matrices, and linear transformations\\n        2. Role of linear algebra in representing and manipulating data in machine learning algorithms\\n    B. Calculus\\n        1. Introduction to derivatives and integrals\\n        2. Application of calculus in optimization algorithms used in machine learning\\n    C. Probability and statistics\\n        1. Fundamentals of probability theory and statistical inference\\n        2. Importance of probabilistic models in machine learning algorithms\\n    D. Optimization\\n        1. Overview of optimization techniques used in machine learning\\n        2. Application of optimization algorithms for training machine learning models\\n\\nIV. Applications of Mathematics in Machine Learning\\n    A. Image recognition\\n        1. Explanation of convolutional neural networks and their mathematical foundations\\n    B. Natural language processing\\n        1. Introduction to recurrent neural networks and their mathematical underpinnings\\n    C. Recommender systems\\n        1. Overview of collaborative filtering algorithms and their mathematical basis\\n\\nV. Challenges and Future Directions\\n    A. Current challenges in applying mathematics to machine learning\\n    B. Research directions for advancing the mathematical foundations of machine learning\\n    C. Potential impact of advancements in mathematics on the future of machine learning\\n\\nVI. Conclusion\\n    A. Recap of the importance of mathematics in machine learning\\n    B. Summary of key points discussed in the paper\\n    C. Call to action for further exploration of the intersection between mathematics and machine learning.', 'blog': 'Machine Learning and Mathematics\\n\\nI. Introduction\\n\\nMachine learning is revolutionizing various industries by enabling computers to learn from data and make decisions without being explicitly programmed. As the field of machine learning continues to grow, the role of mathematics in understanding and developing algorithms becomes increasingly important.\\n\\nII. Foundations of Machine Learning\\n\\nMachine learning techniques can be broadly categorized into supervised learning, unsupervised learning, and reinforcement learning. These techniques rely on mathematical concepts such as linear algebra, calculus, probability, and statistics to train models and make predictions accurately.\\n\\nIII. Mathematics in Machine Learning\\n\\nA. Linear algebra is essential in representing and manipulating data in machine learning algorithms through vectors, matrices, and linear transformations.\\n\\nB. Calculus is used in optimization algorithms to adjust model parameters to minimize errors.\\n\\nC. Probability and statistics play a crucial role in modeling uncertainty and making predictions based on data.\\n\\nD. Optimization algorithms help in training machine learning models efficiently.\\n\\nIV. Applications of Mathematics in Machine Learning\\n\\nA. Image recognition uses convolutional neural networks, which are based on mathematical principles to process visual data.\\n\\nB. Natural language processing relies on recurrent neural networks, which use mathematical operations to analyze and generate text.\\n\\nC. Recommender systems use collaborative filtering algorithms to make product recommendations based on user preferences, grounded in mathematical concepts.\\n\\nV. Challenges and Future Directions\\n\\nA. Challenges include interpreting complex mathematical models and ensuring the accuracy and reliability of machine learning algorithms.\\n\\nB. Future research directions aim to advance mathematical foundations to improve the performance and efficiency of machine learning models.\\n\\nC. Advancements in mathematics can potentially revolutionize the field of machine learning, leading to more robust and intelligent systems.\\n\\nVI. Conclusion\\n\\nMathematics plays a crucial role in understanding and developing machine learning algorithms. By leveraging mathematical concepts such as linear algebra, calculus, probability, and optimization, we can enhance the efficiency and effectiveness of machine learning systems. Further exploration of the intersection between mathematics and machine learning is essential for continued advancements in this groundbreaking field.'}\n"
     ]
    }
   ],
   "source": [
    "initial_state = {\"topic\":\"Machine Learning and Mathematics\"}\n",
    "final_state = workflow.invoke(initial_state)\n",
    "print(final_state)"
   ]
  },
  {
   "cell_type": "code",
   "execution_count": 10,
   "id": "54ff9ba4",
   "metadata": {},
   "outputs": [
    {
     "name": "stdout",
     "output_type": "stream",
     "text": [
      "I. Introduction\n",
      "    A. Explanation of machine learning and its increasing importance in various industries\n",
      "    B. Introduction to the role of mathematics in machine learning\n",
      "\n",
      "II. Foundations of Machine Learning\n",
      "    A. Overview of machine learning techniques\n",
      "    B. Explanation of key concepts such as supervised learning, unsupervised learning, and reinforcement learning\n",
      "    C. Importance of mathematical concepts in understanding machine learning algorithms\n",
      "\n",
      "III. Mathematics in Machine Learning\n",
      "    A. Linear algebra\n",
      "        1. Explanation of vectors, matrices, and linear transformations\n",
      "        2. Role of linear algebra in representing and manipulating data in machine learning algorithms\n",
      "    B. Calculus\n",
      "        1. Introduction to derivatives and integrals\n",
      "        2. Application of calculus in optimization algorithms used in machine learning\n",
      "    C. Probability and statistics\n",
      "        1. Fundamentals of probability theory and statistical inference\n",
      "        2. Importance of probabilistic models in machine learning algorithms\n",
      "    D. Optimization\n",
      "        1. Overview of optimization techniques used in machine learning\n",
      "        2. Application of optimization algorithms for training machine learning models\n",
      "\n",
      "IV. Applications of Mathematics in Machine Learning\n",
      "    A. Image recognition\n",
      "        1. Explanation of convolutional neural networks and their mathematical foundations\n",
      "    B. Natural language processing\n",
      "        1. Introduction to recurrent neural networks and their mathematical underpinnings\n",
      "    C. Recommender systems\n",
      "        1. Overview of collaborative filtering algorithms and their mathematical basis\n",
      "\n",
      "V. Challenges and Future Directions\n",
      "    A. Current challenges in applying mathematics to machine learning\n",
      "    B. Research directions for advancing the mathematical foundations of machine learning\n",
      "    C. Potential impact of advancements in mathematics on the future of machine learning\n",
      "\n",
      "VI. Conclusion\n",
      "    A. Recap of the importance of mathematics in machine learning\n",
      "    B. Summary of key points discussed in the paper\n",
      "    C. Call to action for further exploration of the intersection between mathematics and machine learning.\n"
     ]
    }
   ],
   "source": [
    "print(final_state[\"outline\"])"
   ]
  },
  {
   "cell_type": "code",
   "execution_count": 11,
   "id": "bf103b79",
   "metadata": {},
   "outputs": [
    {
     "name": "stdout",
     "output_type": "stream",
     "text": [
      "Machine Learning and Mathematics\n",
      "\n",
      "I. Introduction\n",
      "\n",
      "Machine learning is revolutionizing various industries by enabling computers to learn from data and make decisions without being explicitly programmed. As the field of machine learning continues to grow, the role of mathematics in understanding and developing algorithms becomes increasingly important.\n",
      "\n",
      "II. Foundations of Machine Learning\n",
      "\n",
      "Machine learning techniques can be broadly categorized into supervised learning, unsupervised learning, and reinforcement learning. These techniques rely on mathematical concepts such as linear algebra, calculus, probability, and statistics to train models and make predictions accurately.\n",
      "\n",
      "III. Mathematics in Machine Learning\n",
      "\n",
      "A. Linear algebra is essential in representing and manipulating data in machine learning algorithms through vectors, matrices, and linear transformations.\n",
      "\n",
      "B. Calculus is used in optimization algorithms to adjust model parameters to minimize errors.\n",
      "\n",
      "C. Probability and statistics play a crucial role in modeling uncertainty and making predictions based on data.\n",
      "\n",
      "D. Optimization algorithms help in training machine learning models efficiently.\n",
      "\n",
      "IV. Applications of Mathematics in Machine Learning\n",
      "\n",
      "A. Image recognition uses convolutional neural networks, which are based on mathematical principles to process visual data.\n",
      "\n",
      "B. Natural language processing relies on recurrent neural networks, which use mathematical operations to analyze and generate text.\n",
      "\n",
      "C. Recommender systems use collaborative filtering algorithms to make product recommendations based on user preferences, grounded in mathematical concepts.\n",
      "\n",
      "V. Challenges and Future Directions\n",
      "\n",
      "A. Challenges include interpreting complex mathematical models and ensuring the accuracy and reliability of machine learning algorithms.\n",
      "\n",
      "B. Future research directions aim to advance mathematical foundations to improve the performance and efficiency of machine learning models.\n",
      "\n",
      "C. Advancements in mathematics can potentially revolutionize the field of machine learning, leading to more robust and intelligent systems.\n",
      "\n",
      "VI. Conclusion\n",
      "\n",
      "Mathematics plays a crucial role in understanding and developing machine learning algorithms. By leveraging mathematical concepts such as linear algebra, calculus, probability, and optimization, we can enhance the efficiency and effectiveness of machine learning systems. Further exploration of the intersection between mathematics and machine learning is essential for continued advancements in this groundbreaking field.\n"
     ]
    }
   ],
   "source": [
    "print(final_state[\"blog\"])"
   ]
  },
  {
   "cell_type": "code",
   "execution_count": null,
   "id": "8ec0e97d",
   "metadata": {},
   "outputs": [],
   "source": []
  },
  {
   "cell_type": "code",
   "execution_count": null,
   "id": "128643ea",
   "metadata": {},
   "outputs": [],
   "source": []
  },
  {
   "cell_type": "code",
   "execution_count": null,
   "id": "0b279504",
   "metadata": {},
   "outputs": [],
   "source": []
  },
  {
   "cell_type": "code",
   "execution_count": null,
   "id": "27ecbb0c",
   "metadata": {},
   "outputs": [],
   "source": []
  },
  {
   "cell_type": "code",
   "execution_count": null,
   "id": "a619f156",
   "metadata": {},
   "outputs": [],
   "source": []
  }
 ],
 "metadata": {
  "kernelspec": {
   "display_name": "venv",
   "language": "python",
   "name": "python3"
  },
  "language_info": {
   "codemirror_mode": {
    "name": "ipython",
    "version": 3
   },
   "file_extension": ".py",
   "mimetype": "text/x-python",
   "name": "python",
   "nbconvert_exporter": "python",
   "pygments_lexer": "ipython3",
   "version": "3.10.0"
  }
 },
 "nbformat": 4,
 "nbformat_minor": 5
}
