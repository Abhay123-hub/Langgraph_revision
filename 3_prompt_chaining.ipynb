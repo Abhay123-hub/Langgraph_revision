{
 "cells": [
  {
   "cell_type": "code",
   "execution_count": 1,
   "id": "001088e7",
   "metadata": {},
   "outputs": [],
   "source": [
    "from langgraph.graph import StateGraph,START,END\n",
    "from dotenv import load_dotenv\n",
    "from langchain_openai import ChatOpenAI\n",
    "from typing import TypedDict"
   ]
  },
  {
   "cell_type": "code",
   "execution_count": 2,
   "id": "1ae9c6e7",
   "metadata": {},
   "outputs": [
    {
     "data": {
      "text/plain": [
       "True"
      ]
     },
     "execution_count": 2,
     "metadata": {},
     "output_type": "execute_result"
    }
   ],
   "source": [
    "load_dotenv()"
   ]
  },
  {
   "cell_type": "code",
   "execution_count": 3,
   "id": "528de877",
   "metadata": {},
   "outputs": [],
   "source": [
    "llm = ChatOpenAI()"
   ]
  },
  {
   "cell_type": "code",
   "execution_count": 4,
   "id": "5c972677",
   "metadata": {},
   "outputs": [],
   "source": [
    "class State(TypedDict):\n",
    "    topic:str\n",
    "    outline:str\n",
    "    blog:str"
   ]
  },
  {
   "cell_type": "code",
   "execution_count": 6,
   "id": "bc52624b",
   "metadata": {},
   "outputs": [],
   "source": [
    "def get_outline(state:State) -> dict:\n",
    "    topic = state.get(\"topic\")\n",
    "    prompt = f\"give the detailed outline of this topic: {topic}\"\n",
    "    outline = llm.invoke(prompt).content\n",
    "    state[\"outline\"] = outline\n",
    "    return state\n",
    "def get_blog(state:State) ->dict:\n",
    "    topic = state.get(\"topic\")\n",
    "    outline = state.get(\"outline\")\n",
    "    prompt = f\"write a detailed blog on topic:{topic} using this outline:\\n\\n {outline}\"\n",
    "    blog = llm.invoke(prompt).content\n",
    "    state[\"blog\"] = blog\n",
    "    return state"
   ]
  },
  {
   "cell_type": "code",
   "execution_count": 7,
   "id": "e419bb78",
   "metadata": {},
   "outputs": [
    {
     "data": {
      "image/png": "[encoded data removed]",
      "text/plain": [
       "<langgraph.graph.state.CompiledStateGraph object at 0x0000015DA18F0E80>"
      ]
     },
     "execution_count": 7,
     "metadata": {},
     "output_type": "execute_result"
    }
   ],
   "source": [
    "graph = StateGraph(State)\n",
    "graph.add_node(\"get_outline\",get_outline)\n",
    "graph.add_node(\"get_blog\",get_blog)\n",
    "graph.add_edge(START,\"get_outline\")\n",
    "graph.add_edge(\"get_outline\",\"get_blog\")\n",
    "graph.add_edge(\"get_blog\",END)\n",
    "graph.compile()"
   ]
  },
  {
   "cell_type": "code",
   "execution_count": 8,
   "id": "4b22ed1b",
   "metadata": {},
   "outputs": [],
   "source": [
    "workflow = graph.compile()"
   ]
  },
  {
   "cell_type": "code",
   "execution_count": 9,
   "id": "971038ac",
   "metadata": {},
   "outputs": [
    {
     "name": "stdout",
     "output_type": "stream",
     "text": [
      "{'topic': 'Machine Learning and Mathematics', 'outline': 'I. Introduction\\n    A. Definition of Machine Learning\\n    B. Importance of Mathematics in Machine Learning\\n\\nII. Fundamental Concepts of Mathematics in Machine Learning\\n    A. Linear Algebra\\n        1. Matrices and Vectors\\n        2. Matrix Operations\\n        3. Eigenvalues and Eigenvectors\\n    B. Calculus\\n        1. Derivatives\\n        2. Gradients\\n        3. Optimization\\n    C. Probability and Statistics\\n        1. Probability Theory\\n        2. Bayes’ Theorem\\n        3. Hypothesis Testing\\n\\nIII. Applications of Mathematics in Machine Learning\\n    A. Supervised Learning\\n        1. Linear Regression\\n        2. Support Vector Machines\\n        3. Neural Networks\\n    B. Unsupervised Learning\\n        1. Clustering\\n        2. Dimensionality Reduction\\n        3. Generative Models\\n\\nIV. Advanced Mathematical Techniques in Machine Learning\\n    A. Convex Optimization\\n    B. Information Theory\\n    C. Bayesian Inference\\n    D. Reinforcement Learning\\n\\nV. Challenges and Future Directions\\n    A. Handling High-Dimensional Data\\n    B. Interpretable AI\\n    C. Continual Learning\\n\\nVI. Conclusion\\n    A. Recap of the Importance of Mathematics in Machine Learning\\n    B. Future Prospects for the Integration of Mathematics in Advancing Machine Learning Technology.', 'blog': 'Machine learning has become an increasingly popular and powerful tool in a wide range of industries, from self-driving cars to personalized recommendation systems. At its core, machine learning is the process of teaching computers to learn from data and make decisions or predictions without being explicitly programmed to do so. However, behind the scenes of this complex and innovative technology lies a strong foundation of mathematics. In this blog, we will delve into the profound connection between machine learning and mathematics, exploring how mathematical concepts form the building blocks of machine learning algorithms, applications, and advancements.\\n\\nI. Introduction\\n\\nA. Definition of Machine Learning\\nMachine learning is a subset of artificial intelligence that focuses on developing algorithms and models that enable computers to learn from and make predictions or decisions based on data. These algorithms are designed to improve their performance over time through experience, without being explicitly programmed to do so.\\n\\nB. Importance of Mathematics in Machine Learning\\nMathematics plays a crucial role in underpinning the theories, algorithms, and applications of machine learning. Concepts such as linear algebra, calculus, probability, and statistics are essential tools that enable machine learning algorithms to process and interpret data efficiently and accurately.\\n\\nII. Fundamental Concepts of Mathematics in Machine Learning\\n\\nA. Linear Algebra\\nLinear algebra provides the foundational framework for representing and manipulating data in machine learning. Key concepts include matrices and vectors, matrix operations, and eigenvalues and eigenvectors, which are essential for tasks such as dimensionality reduction and feature extraction.\\n\\nB. Calculus\\nCalculus is essential for understanding the behavior and optimization of machine learning algorithms. Concepts such as derivatives, gradients, and optimization are used to fine-tune models and optimize their performance based on input data and feedback.\\n\\nC. Probability and Statistics\\nProbability and statistics play a critical role in measuring uncertainty, making predictions, and evaluating the performance of machine learning models. Key concepts include probability theory, Bayes’ theorem, and hypothesis testing, which are used to analyze and interpret data, identify patterns, and make informed decisions.\\n\\nIII. Applications of Mathematics in Machine Learning\\n\\nA. Supervised Learning\\nSupervised learning algorithms learn from labeled training data to make predictions or decisions. Examples include linear regression, support vector machines, and neural networks, which rely on mathematical concepts to model relationships and patterns in the data.\\n\\nB. Unsupervised Learning\\nUnsupervised learning algorithms identify patterns and structures in unlabeled data. Examples include clustering, dimensionality reduction, and generative models, which leverage mathematical techniques to uncover hidden relationships and insights in the data.\\n\\nIV. Advanced Mathematical Techniques in Machine Learning\\n\\nA. Convex Optimization\\nConvex optimization is a powerful mathematical technique used to optimize machine learning models and algorithms. By formulating optimization problems as convex functions, algorithms can efficiently find optimal solutions and improve the performance of the models.\\n\\nB. Information Theory\\nInformation theory provides a theoretical framework for analyzing and quantifying the amount of information in data. By measuring information entropy and mutual information, machine learning algorithms can make informed decisions and improve their predictive capabilities.\\n\\nC. Bayesian Inference\\nBayesian inference is a statistical technique that enables machine learning algorithms to update their beliefs and predictions based on new evidence. By incorporating prior knowledge and probability distributions, models can make more accurate and reliable predictions.\\n\\nD. Reinforcement Learning\\nReinforcement learning is a type of machine learning that focuses on learning from feedback and rewards. By using techniques such as Markov decision processes and dynamic programming, algorithms can learn to make sequential decisions and optimize their behavior over time.\\n\\nV. Challenges and Future Directions\\n\\nA. Handling High-Dimensional Data\\nOne of the challenges in machine learning is dealing with high-dimensional data, which can lead to computational complexity and overfitting. Advanced mathematical techniques such as dimensional reduction and feature selection are essential for handling and processing large datasets efficiently.\\n\\nB. Interpretable AI\\nAs machine learning models become more complex and sophisticated, the need for interpretable AI is becoming increasingly important. Mathematical techniques such as explainable artificial intelligence (XAI) are crucial for understanding, interpreting, and explaining the decisions and predictions made by machine learning algorithms.\\n\\nC. Continual Learning\\nContinual learning is the process of adapting and updating machine learning models over time. By incorporating mathematical concepts such as online learning and incremental learning, algorithms can learn from new data and adapt to changing environments, improving their performance and reliability.\\n\\nVI. Conclusion\\n\\nA. Recap of the Importance of Mathematics in Machine Learning\\nMathematics forms the foundation of machine learning, providing the tools, concepts, and techniques necessary for developing, optimizing, and interpreting algorithms. Without a strong mathematical background, it would be challenging to design and implement effective machine learning solutions.\\n\\nB. Future Prospects for the Integration of Mathematics in Advancing Machine Learning Technology\\nAs machine learning continues to advance and evolve, the integration of mathematics will play a crucial role in shaping the future of artificial intelligence. By combining mathematical theories, algorithms, and applications, researchers can develop more robust, efficient, and reliable machine learning systems that can tackle complex and challenging problems across various domains.\\n\\nIn conclusion, mathematics and machine learning are deeply interconnected, with mathematical concepts serving as the bedrock of machine learning technology. By leveraging the power of mathematics, researchers and practitioners can unlock new opportunities, insights, and innovations in the field of artificial intelligence, paving the way for a more intelligent and data-driven future.'}\n"
     ]
    }
   ],
   "source": [
    "initial_state = {\"topic\":\"Machine Learning and Mathematics\"}\n",
    "final_state = workflow.invoke(initial_state)\n",
    "print(final_state)"
   ]
  },
  {
   "cell_type": "code",
   "execution_count": 10,
   "id": "54ff9ba4",
   "metadata": {},
   "outputs": [
    {
     "name": "stdout",
     "output_type": "stream",
     "text": [
      "I. Introduction\n",
      "    A. Definition of Machine Learning\n",
      "    B. Importance of Mathematics in Machine Learning\n",
      "\n",
      "II. Fundamental Concepts of Mathematics in Machine Learning\n",
      "    A. Linear Algebra\n",
      "        1. Matrices and Vectors\n",
      "        2. Matrix Operations\n",
      "        3. Eigenvalues and Eigenvectors\n",
      "    B. Calculus\n",
      "        1. Derivatives\n",
      "        2. Gradients\n",
      "        3. Optimization\n",
      "    C. Probability and Statistics\n",
      "        1. Probability Theory\n",
      "        2. Bayes’ Theorem\n",
      "        3. Hypothesis Testing\n",
      "\n",
      "III. Applications of Mathematics in Machine Learning\n",
      "    A. Supervised Learning\n",
      "        1. Linear Regression\n",
      "        2. Support Vector Machines\n",
      "        3. Neural Networks\n",
      "    B. Unsupervised Learning\n",
      "        1. Clustering\n",
      "        2. Dimensionality Reduction\n",
      "        3. Generative Models\n",
      "\n",
      "IV. Advanced Mathematical Techniques in Machine Learning\n",
      "    A. Convex Optimization\n",
      "    B. Information Theory\n",
      "    C. Bayesian Inference\n",
      "    D. Reinforcement Learning\n",
      "\n",
      "V. Challenges and Future Directions\n",
      "    A. Handling High-Dimensional Data\n",
      "    B. Interpretable AI\n",
      "    C. Continual Learning\n",
      "\n",
      "VI. Conclusion\n",
      "    A. Recap of the Importance of Mathematics in Machine Learning\n",
      "    B. Future Prospects for the Integration of Mathematics in Advancing Machine Learning Technology.\n"
     ]
    }
   ],
   "source": [
    "print(final_state[\"outline\"])"
   ]
  },
  {
   "cell_type": "code",
   "execution_count": 13,
   "id": "bf103b79",
   "metadata": {},
   "outputs": [
    {
     "name": "stdout",
     "output_type": "stream",
     "text": [
      "Machine learning has become an increasingly popular and powerful tool in a wide range of industries, from self-driving cars to personalized recommendation systems. At its core, machine learning is the process of teaching computers to learn from data and make decisions or predictions without being explicitly programmed to do so. However, behind the scenes of this complex and innovative technology lies a strong foundation of mathematics. In this blog, we will delve into the profound connection between machine learning and mathematics, exploring how mathematical concepts form the building blocks of machine learning algorithms, applications, and advancements.\n",
      "\n",
      "I. Introduction\n",
      "\n",
      "A. Definition of Machine Learning\n",
      "Machine learning is a subset of artificial intelligence that focuses on developing algorithms and models that enable computers to learn from and make predictions or decisions based on data. These algorithms are designed to improve their performance over time through experience, without being explicitly programmed to do so.\n",
      "\n",
      "B. Importance of Mathematics in Machine Learning\n",
      "Mathematics plays a crucial role in underpinning the theories, algorithms, and applications of machine learning. Concepts such as linear algebra, calculus, probability, and statistics are essential tools that enable machine learning algorithms to process and interpret data efficiently and accurately.\n",
      "\n",
      "II. Fundamental Concepts of Mathematics in Machine Learning\n",
      "\n",
      "A. Linear Algebra\n",
      "Linear algebra provides the foundational framework for representing and manipulating data in machine learning. Key concepts include matrices and vectors, matrix operations, and eigenvalues and eigenvectors, which are essential for tasks such as dimensionality reduction and feature extraction.\n",
      "\n",
      "B. Calculus\n",
      "Calculus is essential for understanding the behavior and optimization of machine learning algorithms. Concepts such as derivatives, gradients, and optimization are used to fine-tune models and optimize their performance based on input data and feedback.\n",
      "\n",
      "C. Probability and Statistics\n",
      "Probability and statistics play a critical role in measuring uncertainty, making predictions, and evaluating the performance of machine learning models. Key concepts include probability theory, Bayes’ theorem, and hypothesis testing, which are used to analyze and interpret data, identify patterns, and make informed decisions.\n",
      "\n",
      "III. Applications of Mathematics in Machine Learning\n",
      "\n",
      "A. Supervised Learning\n",
      "Supervised learning algorithms learn from labeled training data to make predictions or decisions. Examples include linear regression, support vector machines, and neural networks, which rely on mathematical concepts to model relationships and patterns in the data.\n",
      "\n",
      "B. Unsupervised Learning\n",
      "Unsupervised learning algorithms identify patterns and structures in unlabeled data. Examples include clustering, dimensionality reduction, and generative models, which leverage mathematical techniques to uncover hidden relationships and insights in the data.\n",
      "\n",
      "IV. Advanced Mathematical Techniques in Machine Learning\n",
      "\n",
      "A. Convex Optimization\n",
      "Convex optimization is a powerful mathematical technique used to optimize machine learning models and algorithms. By formulating optimization problems as convex functions, algorithms can efficiently find optimal solutions and improve the performance of the models.\n",
      "\n",
      "B. Information Theory\n",
      "Information theory provides a theoretical framework for analyzing and quantifying the amount of information in data. By measuring information entropy and mutual information, machine learning algorithms can make informed decisions and improve their predictive capabilities.\n",
      "\n",
      "C. Bayesian Inference\n",
      "Bayesian inference is a statistical technique that enables machine learning algorithms to update their beliefs and predictions based on new evidence. By incorporating prior knowledge and probability distributions, models can make more accurate and reliable predictions.\n",
      "\n",
      "D. Reinforcement Learning\n",
      "Reinforcement learning is a type of machine learning that focuses on learning from feedback and rewards. By using techniques such as Markov decision processes and dynamic programming, algorithms can learn to make sequential decisions and optimize their behavior over time.\n",
      "\n",
      "V. Challenges and Future Directions\n",
      "\n",
      "A. Handling High-Dimensional Data\n",
      "One of the challenges in machine learning is dealing with high-dimensional data, which can lead to computational complexity and overfitting. Advanced mathematical techniques such as dimensional reduction and feature selection are essential for handling and processing large datasets efficiently.\n",
      "\n",
      "B. Interpretable AI\n",
      "As machine learning models become more complex and sophisticated, the need for interpretable AI is becoming increasingly important. Mathematical techniques such as explainable artificial intelligence (XAI) are crucial for understanding, interpreting, and explaining the decisions and predictions made by machine learning algorithms.\n",
      "\n",
      "C. Continual Learning\n",
      "Continual learning is the process of adapting and updating machine learning models over time. By incorporating mathematical concepts such as online learning and incremental learning, algorithms can learn from new data and adapt to changing environments, improving their performance and reliability.\n",
      "\n",
      "VI. Conclusion\n",
      "\n",
      "A. Recap of the Importance of Mathematics in Machine Learning\n",
      "Mathematics forms the foundation of machine learning, providing the tools, concepts, and techniques necessary for developing, optimizing, and interpreting algorithms. Without a strong mathematical background, it would be challenging to design and implement effective machine learning solutions.\n",
      "\n",
      "B. Future Prospects for the Integration of Mathematics in Advancing Machine Learning Technology\n",
      "As machine learning continues to advance and evolve, the integration of mathematics will play a crucial role in shaping the future of artificial intelligence. By combining mathematical theories, algorithms, and applications, researchers can develop more robust, efficient, and reliable machine learning systems that can tackle complex and challenging problems across various domains.\n",
      "\n",
      "In conclusion, mathematics and machine learning are deeply interconnected, with mathematical concepts serving as the bedrock of machine learning technology. By leveraging the power of mathematics, researchers and practitioners can unlock new opportunities, insights, and innovations in the field of artificial intelligence, paving the way for a more intelligent and data-driven future.\n"
     ]
    }
   ],
   "source": [
    "print(final_state[\"blog\"])"
   ]
  },
  {
   "cell_type": "code",
   "execution_count": null,
   "id": "8ec0e97d",
   "metadata": {},
   "outputs": [],
   "source": []
  },
  {
   "cell_type": "code",
   "execution_count": null,
   "id": "128643ea",
   "metadata": {},
   "outputs": [],
   "source": []
  },
  {
   "cell_type": "code",
   "execution_count": null,
   "id": "0b279504",
   "metadata": {},
   "outputs": [],
   "source": []
  },
  {
   "cell_type": "code",
   "execution_count": null,
   "id": "27ecbb0c",
   "metadata": {},
   "outputs": [],
   "source": []
  },
  {
   "cell_type": "code",
   "execution_count": null,
   "id": "a619f156",
   "metadata": {},
   "outputs": [],
   "source": []
  }
 ],
 "metadata": {
  "kernelspec": {
   "display_name": "venv",
   "language": "python",
   "name": "python3"
  },
  "language_info": {
   "codemirror_mode": {
    "name": "ipython",
    "version": 3
   },
   "file_extension": ".py",
   "mimetype": "text/x-python",
   "name": "python",
   "nbconvert_exporter": "python",
   "pygments_lexer": "ipython3",
   "version": "3.10.0"
  }
 },
 "nbformat": 4,
 "nbformat_minor": 5
}
