{
 "cells": [
  {
   "cell_type": "code",
   "execution_count": 1,
   "id": "541739c2",
   "metadata": {},
   "outputs": [],
   "source": [
    "## here i am going to write the code for bats man workflow\n",
    "## in the inout user will provide balls,runs,sixes,fours of the batsaman\n",
    "## and in summary we will get strike rate,balls per boundary,boundary percentage as ouptut"
   ]
  },
  {
   "cell_type": "code",
   "execution_count": 2,
   "id": "41182929",
   "metadata": {},
   "outputs": [],
   "source": [
    "from langgraph.graph import StateGraph,START,END\n",
    "from langchain_openai import ChatOpenAI\n",
    "from dotenv import load_dotenv\n",
    "from typing import TypedDict"
   ]
  },
  {
   "cell_type": "code",
   "execution_count": 3,
   "id": "7373cf17",
   "metadata": {},
   "outputs": [
    {
     "data": {
      "text/plain": [
       "True"
      ]
     },
     "execution_count": 3,
     "metadata": {},
     "output_type": "execute_result"
    }
   ],
   "source": [
    "load_dotenv()"
   ]
  },
  {
   "cell_type": "code",
   "execution_count": 4,
   "id": "c21b3d66",
   "metadata": {},
   "outputs": [],
   "source": [
    "class State(TypedDict):\n",
    "    runs:int\n",
    "    balls:int\n",
    "    fours:int\n",
    "    sixes:int\n",
    "    sr:float\n",
    "    bpb:float\n",
    "    bp:float\n",
    "    summary:str"
   ]
  },
  {
   "cell_type": "code",
   "execution_count": 5,
   "id": "da3acd74",
   "metadata": {},
   "outputs": [],
   "source": [
    "def calculate_sr(state:State) ->dict:\n",
    "    runs = state[\"runs\"]\n",
    "    balls = state[\"balls\"]\n",
    "    sr = (runs/balls)*100\n",
    "    return {\"sr\":sr}"
   ]
  },
  {
   "cell_type": "code",
   "execution_count": 6,
   "id": "2ccdfb1a",
   "metadata": {},
   "outputs": [],
   "source": [
    "def calculate_bpb(state:State) ->dict:\n",
    "    runs = state[\"runs\"]\n",
    "    balls = state[\"balls\"]\n",
    "    sixes = state[\"sixes\"]\n",
    "    fours = state[\"fours\"]\n",
    "\n",
    "\n",
    "    bpb = (balls/(sixes+fours))\n",
    "    return {\"bpb\":bpb}"
   ]
  },
  {
   "cell_type": "code",
   "execution_count": 7,
   "id": "db8f94ba",
   "metadata": {},
   "outputs": [],
   "source": [
    "def calculate_bp(state:State) ->dict:\n",
    "    runs = state[\"runs\"]\n",
    "    balls = state[\"balls\"]\n",
    "    sixes = state[\"sixes\"]\n",
    "    fours = state[\"fours\"]\n",
    "    bp = (((4*fours) + (6*sixes))/runs)*100\n",
    "    return {\"bp\":bp}"
   ]
  },
  {
   "cell_type": "code",
   "execution_count": 8,
   "id": "635a9b87",
   "metadata": {},
   "outputs": [],
   "source": [
    "def get_summary(state:State) ->dict:\n",
    "    sr = state[\"sr\"]\n",
    "    bpb = state[\"bpb\"]\n",
    "    bp = state[\"bp\"]\n",
    "\n",
    "    summary = f\"\"\"\"    \n",
    "    The batsman performance is given as:\n",
    "    Strike Rate : {sr}\n",
    "    Balls Per Boundary: {bpb}\n",
    "    Boundary Percentage: {bp}\n",
    "                 \"\"\"  \n",
    "    return {\"summary\":summary}\n",
    "    "
   ]
  },
  {
   "cell_type": "code",
   "execution_count": 9,
   "id": "3324c12c",
   "metadata": {},
   "outputs": [],
   "source": [
    "graph = StateGraph(State)\n",
    "graph.add_node(\"calculate_sr\",calculate_sr)\n",
    "graph.add_node(\"calculate_bp\",calculate_bp)\n",
    "graph.add_node(\"calculate_bpb\",calculate_bpb)\n",
    "graph.add_node(\"get_summary\",get_summary)\n",
    "graph.add_edge(START,\"calculate_sr\")\n",
    "graph.add_edge(START,\"calculate_bpb\")\n",
    "graph.add_edge(START,\"calculate_bp\")\n",
    "graph.add_edge(\"calculate_sr\",\"get_summary\")\n",
    "graph.add_edge(\"calculate_bpb\",\"get_summary\")\n",
    "graph.add_edge(\"calculate_bp\",\"get_summary\")\n",
    "graph.add_edge(\"get_summary\",END)\n",
    "workflow = graph.compile()\n"
   ]
  },
  {
   "cell_type": "code",
   "execution_count": null,
   "id": "aa4fb8e7",
   "metadata": {},
   "outputs": [
    {
     "data": {
      "image/png": "[encoded data removed]",
      "text/plain": [
       "<langgraph.graph.state.CompiledStateGraph object at 0x000001CAD683E2C0>"
      ]
     },
     "execution_count": 11,
     "metadata": {},
     "output_type": "execute_result"
    }
   ],
   "source": [
    "workflow ## this is the architetcure of my workflow"
   ]
  },
  {
   "cell_type": "code",
   "execution_count": null,
   "id": "fb24eeab",
   "metadata": {},
   "outputs": [
    {
     "name": "stdout",
     "output_type": "stream",
     "text": [
      "{'runs': 200, 'balls': 100, 'fours': 8, 'sixes': 5, 'sr': 200.0, 'bpb': 7.6923076923076925, 'bp': 31.0, 'summary': '\"    \\n    The batsman performance is given as:\\n    Strike Rate : 200.0\\n    Balls Per Boundary: 7.6923076923076925\\n    Boundary Percentage: 31.0\\n                 '}\n"
     ]
    }
   ],
   "source": [
    "initial_state = {\"runs\":200,\"balls\":100,\"sixes\":5,\"fours\":8}\n",
    "final_state = workflow.invoke(initial_state)\n",
    "print(final_state)"
   ]
  },
  {
   "cell_type": "code",
   "execution_count": null,
   "id": "8d428f89",
   "metadata": {},
   "outputs": [
    {
     "data": {
      "text/plain": [
       "'\"    \\n    The batsman performance is given as:\\n    Strike Rate : 200.0\\n    Balls Per Boundary: 7.6923076923076925\\n    Boundary Percentage: 31.0\\n                 '"
      ]
     },
     "execution_count": 12,
     "metadata": {},
     "output_type": "execute_result"
    }
   ],
   "source": [
    "final_state[\"summary\"]"
   ]
  },
  {
   "cell_type": "code",
   "execution_count": null,
   "id": "13409c75",
   "metadata": {},
   "outputs": [],
   "source": []
  },
  {
   "cell_type": "code",
   "execution_count": null,
   "id": "a94a7d7f",
   "metadata": {},
   "outputs": [],
   "source": []
  }
 ],
 "metadata": {
  "kernelspec": {
   "display_name": "venv",
   "language": "python",
   "name": "python3"
  },
  "language_info": {
   "codemirror_mode": {
    "name": "ipython",
    "version": 3
   },
   "file_extension": ".py",
   "mimetype": "text/x-python",
   "name": "python",
   "nbconvert_exporter": "python",
   "pygments_lexer": "ipython3",
   "version": "3.10.0"
  }
 },
 "nbformat": 4,
 "nbformat_minor": 5
}
