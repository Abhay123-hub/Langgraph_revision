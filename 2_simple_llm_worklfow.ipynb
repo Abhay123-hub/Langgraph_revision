{
 "cells": [
  {
   "cell_type": "code",
   "execution_count": 2,
   "id": "0b85b65c",
   "metadata": {},
   "outputs": [
    {
     "data": {
      "text/plain": [
       "True"
      ]
     },
     "execution_count": 2,
     "metadata": {},
     "output_type": "execute_result"
    }
   ],
   "source": [
    "from langgraph.graph import StateGraph,START,END\n",
    "from typing import TypedDict\n",
    "from dotenv import load_dotenv\n",
    "from langchain_openai import ChatOpenAI\n",
    "load_dotenv() ## activating up all the secret variables"
   ]
  },
  {
   "cell_type": "code",
   "execution_count": 3,
   "id": "0dd7c47d",
   "metadata": {},
   "outputs": [],
   "source": [
    "llm = ChatOpenAI()"
   ]
  },
  {
   "cell_type": "code",
   "execution_count": null,
   "id": "84a484d9",
   "metadata": {},
   "outputs": [
    {
     "data": {
      "text/plain": [
       "'Data science is a multidisciplinary field that deals with extracting insights and knowledge from data using various tools and techniques. It combines expertise from fields such as statistics, computer science, mathematics, and domain-specific knowledge to analyze and interpret complex data sets. Data science involves collecting, cleaning, and processing large volumes of data to identify patterns, trends, and relationships that can be used to make informed business decisions or generate new insights. It also includes techniques such as machine learning, data mining, and data visualization to derive value from data.'"
      ]
     },
     "execution_count": 4,
     "metadata": {},
     "output_type": "execute_result"
    }
   ],
   "source": [
    "llm.invoke(\"what is data science\").content ## the llm is working fine"
   ]
  },
  {
   "cell_type": "code",
   "execution_count": 5,
   "id": "4c0adbeb",
   "metadata": {},
   "outputs": [],
   "source": [
    "class State(StateGraph):\n",
    "    question:str\n",
    "    answer:str\n",
    "    "
   ]
  },
  {
   "cell_type": "code",
   "execution_count": 7,
   "id": "c15a5669",
   "metadata": {},
   "outputs": [],
   "source": [
    "def get_response(state:State)->dict:\n",
    "    question = state[\"question\"]\n",
    "    answer = llm.invoke(question).content\n",
    "    return {\"answer\":answer}"
   ]
  },
  {
   "cell_type": "code",
   "execution_count": 8,
   "id": "5f9544bd",
   "metadata": {},
   "outputs": [
    {
     "data": {
      "text/plain": [
       "<langgraph.graph.state.StateGraph at 0x2bffe0c3c40>"
      ]
     },
     "execution_count": 8,
     "metadata": {},
     "output_type": "execute_result"
    }
   ],
   "source": [
    "workflow = StateGraph(State)\n",
    "workflow.add_node(\"get_response\",get_response)\n",
    "workflow.add_edge(START,\"get_response\")\n",
    "workflow.add_edge(\"get_response\",END)"
   ]
  },
  {
   "cell_type": "code",
   "execution_count": 9,
   "id": "b77c7741",
   "metadata": {},
   "outputs": [
    {
     "data": {
      "image/png": "[encoded data removed]",
      "text/plain": [
       "<langgraph.graph.state.CompiledStateGraph object at 0x000002BFFE0C2FE0>"
      ]
     },
     "execution_count": 9,
     "metadata": {},
     "output_type": "execute_result"
    }
   ],
   "source": [
    "workflow.compile()"
   ]
  },
  {
   "cell_type": "code",
   "execution_count": null,
   "id": "d7ebc394",
   "metadata": {},
   "outputs": [],
   "source": []
  },
  {
   "cell_type": "code",
   "execution_count": null,
   "id": "c8e84245",
   "metadata": {},
   "outputs": [],
   "source": []
  },
  {
   "cell_type": "code",
   "execution_count": null,
   "id": "643b875f",
   "metadata": {},
   "outputs": [],
   "source": []
  }
 ],
 "metadata": {
  "kernelspec": {
   "display_name": "venv",
   "language": "python",
   "name": "python3"
  },
  "language_info": {
   "codemirror_mode": {
    "name": "ipython",
    "version": 3
   },
   "file_extension": ".py",
   "mimetype": "text/x-python",
   "name": "python",
   "nbconvert_exporter": "python",
   "pygments_lexer": "ipython3",
   "version": "3.10.0"
  }
 },
 "nbformat": 4,
 "nbformat_minor": 5
}
