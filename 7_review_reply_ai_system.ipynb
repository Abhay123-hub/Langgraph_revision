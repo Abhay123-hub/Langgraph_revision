{
 "cells": [
  {
   "cell_type": "code",
   "execution_count": 1,
   "id": "6c40de06",
   "metadata": {},
   "outputs": [
    {
     "data": {
      "text/plain": [
       "'\"Now in last section we exprimented with conditional workflows in the Langgraph.But this conitional workflow was not LLM Powered.\\nNow we will be devolping LLM Powered conditional workflows.\\nSo what actually the problem statment is .We will get review from the user as an input.Thne we will find out that to which category\\nthis review belongs to it may either belong to positive category and negative category.If the review belongs to positive category then we will\\ngenerate the positive response.But if the review belongs to negative category then we will not directly generate the negative response.\\nwe will diagonise of this negative response.Like getting issue_type,tone,urgency from the negative review then i will be using all of these\\nto generate the final response which will actually solve the problem of user.\\nnow we have understood what actually we need to do so let us do it.\\n'"
      ]
     },
     "execution_count": 1,
     "metadata": {},
     "output_type": "execute_result"
    }
   ],
   "source": [
    "\"\"\"\"Now in last section we exprimented with conditional workflows in the Langgraph.But this conitional workflow was not LLM Powered.\n",
    "Now we will be devolping LLM Powered conditional workflows.\n",
    "So what actually the problem statment is .We will get review from the user as an input.Thne we will find out that to which category\n",
    "this review belongs to it may either belong to positive category and negative category.If the review belongs to positive category then we will\n",
    "generate the positive response.But if the review belongs to negative category then we will not directly generate the negative response.\n",
    "we will diagonise of this negative response.Like getting issue_type,tone,urgency from the negative review then i will be using all of these\n",
    "to generate the final response which will actually solve the problem of user.\n",
    "now we have understood what actually we need to do so let us do it.\n",
    "\"\"\""
   ]
  },
  {
   "cell_type": "code",
   "execution_count": 2,
   "id": "76d3bdc4",
   "metadata": {},
   "outputs": [
    {
     "data": {
      "text/plain": [
       "True"
      ]
     },
     "execution_count": 2,
     "metadata": {},
     "output_type": "execute_result"
    }
   ],
   "source": [
    "## let us start coding of this project\n",
    "from langgraph.graph import START,END,StateGraph\n",
    "from langchain_openai import ChatOpenAI\n",
    "from dotenv import load_dotenv\n",
    "from typing import TypedDict,Literal,List\n",
    "from pydantic import BaseModel,Field\n",
    "load_dotenv() ## activating up all the secret variables"
   ]
  },
  {
   "cell_type": "code",
   "execution_count": 11,
   "id": "b3026f4f",
   "metadata": {},
   "outputs": [],
   "source": [
    "class State(TypedDict):\n",
    "    review:str\n",
    "    sentiment:str\n",
    "    response:str\n",
    "    issue_type:str\n",
    "    tone:str\n",
    "    urgency:str"
   ]
  },
  {
   "cell_type": "code",
   "execution_count": 4,
   "id": "fe149c6b",
   "metadata": {},
   "outputs": [],
   "source": [
    "class Sentiment(BaseModel):\n",
    "    sentiment:Literal[\"positive\",\"negative\"] = Field(description=\"sentiment of the user review either positive or negative\")"
   ]
  },
  {
   "cell_type": "code",
   "execution_count": 5,
   "id": "03dcb128",
   "metadata": {},
   "outputs": [],
   "source": [
    "class Diagnosis(BaseModel):\n",
    "    issue_type:Literal[\"UI\",\"DataBase\",\"Loading time\",\"Processing Time\"] = Field(description=\"The issue ,user is facing in the website\")\n",
    "    tone:Literal[\"soft\",\"rude\",\"normal\"] = Field(description=\"The tone of the user in the review\")\n",
    "    urgency:Literal[\"High\",\"Medium\",\"Low\"] = Field(description=\"The urgency based on the user review\")"
   ]
  },
  {
   "cell_type": "code",
   "execution_count": 6,
   "id": "08de132b",
   "metadata": {},
   "outputs": [
    {
     "name": "stderr",
     "output_type": "stream",
     "text": [
      "d:\\Langgraph_revision\\venv\\lib\\site-packages\\langchain_openai\\chat_models\\base.py:1927: UserWarning: Cannot use method='json_schema' with model gpt-3.5-turbo since it doesn't support OpenAI's Structured Output API. You can see supported models here: https://platform.openai.com/docs/guides/structured-outputs#supported-models. To fix this warning, set `method='function_calling'. Overriding to method='function_calling'.\n",
      "  warnings.warn(\n"
     ]
    }
   ],
   "source": [
    "llm = ChatOpenAI()\n",
    "structured_llm_1 = llm.with_structured_output(Sentiment)\n",
    "structured_llm_2 = llm.with_structured_output(Diagnosis)"
   ]
  },
  {
   "cell_type": "code",
   "execution_count": 7,
   "id": "8724c131",
   "metadata": {},
   "outputs": [
    {
     "data": {
      "text/plain": [
       "Sentiment(sentiment='positive')"
      ]
     },
     "execution_count": 7,
     "metadata": {},
     "output_type": "execute_result"
    }
   ],
   "source": [
    "structured_llm_1.invoke(\"This product is very good\")\n",
    "## the structured llm is working fine"
   ]
  },
  {
   "cell_type": "code",
   "execution_count": 10,
   "id": "e92d6244",
   "metadata": {},
   "outputs": [
    {
     "data": {
      "text/plain": [
       "Diagnosis(issue_type='UI', tone='rude', urgency='High')"
      ]
     },
     "execution_count": 10,
     "metadata": {},
     "output_type": "execute_result"
    }
   ],
   "source": [
    "structured_llm_2.invoke(\"The UX of the website is very bad .I want this in better form as soon as possible if it takes time then no problem\")\n"
   ]
  },
  {
   "cell_type": "code",
   "execution_count": 15,
   "id": "967626be",
   "metadata": {},
   "outputs": [],
   "source": [
    "## creating first component which will fetch the sentiment of the user review\n",
    "def fetch_sentiment(state:State) ->dict:\n",
    "    review = state[\"review\"]\n",
    "\n",
    "    prompt = f\"\"\" For the given user review \\n\\n {review} analyze it then find out that it belongs to positive category or negative category.\n",
    "    return 'positive' if the user belongs to positive category \n",
    "     return 'negative' if the user belongs to negative category \n",
    "                            \"\"\"\n",
    "    sentiment = structured_llm_1.invoke(review).sentiment\n",
    "    return {'sentiment':sentiment}"
   ]
  },
  {
   "cell_type": "code",
   "execution_count": 14,
   "id": "241acbd9",
   "metadata": {},
   "outputs": [],
   "source": [
    "def router(state:State) ->str:\n",
    "    sentiment = state[\"sentiment\"]\n",
    "    if sentiment == \"positive\":\n",
    "        return \"get_positive_response\"\n",
    "    else:\n",
    "        return \"get_diagnosis\""
   ]
  },
  {
   "cell_type": "code",
   "execution_count": null,
   "id": "43aa3916",
   "metadata": {},
   "outputs": [],
   "source": [
    "def get_positive_response(state:State) ->dict:\n",
    "    review = state[\"review\"]\n",
    "    prompt = f\"\"\"for the given user positive review \\n {review}  .Write a thankfull response to user.  \n",
    "                          \"\"\"\n",
    "    response = llm.invoke(prompt).content\n",
    "    return {'response':response}"
   ]
  },
  {
   "cell_type": "code",
   "execution_count": 17,
   "id": "ccde8528",
   "metadata": {},
   "outputs": [],
   "source": [
    "def get_diagnosis(state:State) ->dict:\n",
    "    review = state[\"review\"]\n",
    "\n",
    "    prompt = f\"\"\" for the given user negative review\\n {review}.\n",
    "    Fetch out these important details issue type,tone and urgency\n",
    "                \"\"\"\n",
    "    response = structured_llm_2.invoke(prompt)\n",
    "    issue_type = response.issue_type\n",
    "    tone = response.tone\n",
    "    urgency = response.urgency\n",
    "\n",
    "    return {\"issue_type\":issue_type,\"tone\":tone,\"urgency\":urgency}"
   ]
  },
  {
   "cell_type": "code",
   "execution_count": 18,
   "id": "a26c168d",
   "metadata": {},
   "outputs": [],
   "source": [
    "def get_negative_response(state:State) ->dict:\n",
    "    review = state[\"review\"]\n",
    "    issue_type = state[\"issue_type\"]\n",
    "    tone = state[\"tone\"]\n",
    "    urgency = state[\"urgency\"]\n",
    "\n",
    "    prompt = f\"\"\" for the given negative review \\n {review} by the user.It has been found user is facing the issue {issue_type},\n",
    "    the tone of the user is found {tone} and urgency is {urgency} Give the good response to user based on above data such that user will get \n",
    "    satisfied that we will solve the problem faced by user.\n",
    "                        \"\"\"\n",
    "    response = llm.invoke(prompt).content\n",
    "    return {'response':response}"
   ]
  },
  {
   "cell_type": "code",
   "execution_count": 23,
   "id": "0c00fef1",
   "metadata": {},
   "outputs": [],
   "source": [
    "## till here we have created all the components of the graph\n",
    "## now i will be joining all the components in the graph\n",
    "graph = StateGraph(State)\n",
    "graph.add_node(\"fetch_sentiment\",fetch_sentiment)\n",
    "graph.add_node(\"get_positive_response\",get_positive_response)\n",
    "graph.add_node(\"get_diagnosis\",get_diagnosis)\n",
    "graph.add_node(\"get_negative_response\",get_negative_response)\n",
    "\n",
    "## defined all the nodes in the graph \n",
    "## now joining all the nodes of the graph\n",
    "## using my logic\n",
    "graph.add_edge(START,\"fetch_sentiment\")\n",
    "graph.add_conditional_edges(\"fetch_sentiment\",router,{\"get_positive_response\":\"get_positive_response\",\"get_diagnosis\":\"get_diagnosis\"})\n",
    "graph.add_edge(\"get_diagnosis\",\"get_negative_response\")\n",
    "graph.add_edge(\"get_negative_response\",END)\n",
    "graph.add_edge(\"get_positive_response\",END)\n",
    "\n",
    "workflow = graph.compile()"
   ]
  },
  {
   "cell_type": "code",
   "execution_count": 24,
   "id": "a7c3c0b5",
   "metadata": {},
   "outputs": [
    {
     "data": {
      "image/png": "[encoded data removed]",
      "text/plain": [
       "<langgraph.graph.state.CompiledStateGraph object at 0x000001EB7F2CBFD0>"
      ]
     },
     "execution_count": 24,
     "metadata": {},
     "output_type": "execute_result"
    }
   ],
   "source": [
    "workflow"
   ]
  },
  {
   "cell_type": "code",
   "execution_count": 26,
   "id": "30c3da92",
   "metadata": {},
   "outputs": [
    {
     "name": "stdout",
     "output_type": "stream",
     "text": [
      "{'review': 'The UX of the website is very good .I want this more better form as soon as possible if it takes time then no problem', 'sentiment': 'positive', 'response': 'Thank you so much for your positive review! We are glad to hear that you are enjoying the UX of our website. We are constantly working to improve and make it even better, so your feedback is much appreciated. We will do our best to make the necessary enhancements as quickly as possible. Thank you for your support!'}\n"
     ]
    }
   ],
   "source": [
    "initial_state = {\"review\":\"The UX of the website is very good .I want this more better form as soon as possible if it takes time then no problem\"}\n",
    "final_state = workflow.invoke(initial_state)\n",
    "print(final_state)"
   ]
  },
  {
   "cell_type": "code",
   "execution_count": null,
   "id": "b46853d2",
   "metadata": {},
   "outputs": [],
   "source": []
  },
  {
   "cell_type": "code",
   "execution_count": null,
   "id": "ffe1aaa8",
   "metadata": {},
   "outputs": [],
   "source": []
  }
 ],
 "metadata": {
  "kernelspec": {
   "display_name": "Python 3",
   "language": "python",
   "name": "python3"
  },
  "language_info": {
   "codemirror_mode": {
    "name": "ipython",
    "version": 3
   },
   "file_extension": ".py",
   "mimetype": "text/x-python",
   "name": "python",
   "nbconvert_exporter": "python",
   "pygments_lexer": "ipython3",
   "version": "3.13.2"
  }
 },
 "nbformat": 4,
 "nbformat_minor": 5
}
